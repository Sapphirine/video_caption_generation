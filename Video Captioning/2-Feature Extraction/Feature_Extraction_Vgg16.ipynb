{
 "cells": [
  {
   "cell_type": "code",
   "execution_count": 12,
   "id": "0a1ca30a",
   "metadata": {},
   "outputs": [],
   "source": [
    "import numpy as np\n",
    "from keras.utils import np_utils\n",
    "from keras.models import Model, Sequential, load_model\n",
    "from keras.layers import Dense, Conv2D, MaxPooling2D, Flatten, Reshape, Dropout\n",
    "from keras.preprocessing.image import ImageDataGenerator\n",
    "from keras.applications.vgg16 import VGG16\n",
    "# from keras.applications.resnet50 import ResNet50\n",
    "from sklearn.metrics import confusion_matrix, classification_report\n",
    "import itertools\n",
    "import cv2\n",
    "import numpy as np\n",
    "import pandas as pd\n",
    "import matplotlib.pyplot as plt\n",
    "import os"
   ]
  },
  {
   "cell_type": "code",
   "execution_count": 13,
   "id": "93918328",
   "metadata": {},
   "outputs": [],
   "source": [
    "df = pd.read_csv('movie_frames.csv')\n",
    "df.rename(columns={'Unnamed: 0': 'index',\n",
    "                   '0': 'image_path'},\n",
    "          inplace=True)"
   ]
  },
  {
   "cell_type": "code",
   "execution_count": 15,
   "id": "b99f88f3",
   "metadata": {},
   "outputs": [],
   "source": [
    "ids = []\n",
    "for i in df['image_path']:\n",
    "    ids.append(i.split('\\\\')[-1].split('-')[0])\n",
    "\n",
    "df['id'] = ids\n",
    "df['id'] = df['id'].astype(int)"
   ]
  },
  {
   "cell_type": "code",
   "execution_count": 17,
   "id": "ac408f72",
   "metadata": {},
   "outputs": [],
   "source": [
    "model = VGG16(weights=\"imagenet\", include_top=True, input_shape=(224, 224, 3))\n",
    "out = model.layers[-2].output\n",
    "model_final = Model(inputs=model.input, outputs=out)"
   ]
  },
  {
   "cell_type": "code",
   "execution_count": 18,
   "id": "7688e826",
   "metadata": {},
   "outputs": [
    {
     "name": "stdout",
     "output_type": "stream",
     "text": [
      "Model: \"model_1\"\n",
      "_________________________________________________________________\n",
      " Layer (type)                Output Shape              Param #   \n",
      "=================================================================\n",
      " input_2 (InputLayer)        [(None, 224, 224, 3)]     0         \n",
      "                                                                 \n",
      " block1_conv1 (Conv2D)       (None, 224, 224, 64)      1792      \n",
      "                                                                 \n",
      " block1_conv2 (Conv2D)       (None, 224, 224, 64)      36928     \n",
      "                                                                 \n",
      " block1_pool (MaxPooling2D)  (None, 112, 112, 64)      0         \n",
      "                                                                 \n",
      " block2_conv1 (Conv2D)       (None, 112, 112, 128)     73856     \n",
      "                                                                 \n",
      " block2_conv2 (Conv2D)       (None, 112, 112, 128)     147584    \n",
      "                                                                 \n",
      " block2_pool (MaxPooling2D)  (None, 56, 56, 128)       0         \n",
      "                                                                 \n",
      " block3_conv1 (Conv2D)       (None, 56, 56, 256)       295168    \n",
      "                                                                 \n",
      " block3_conv2 (Conv2D)       (None, 56, 56, 256)       590080    \n",
      "                                                                 \n",
      " block3_conv3 (Conv2D)       (None, 56, 56, 256)       590080    \n",
      "                                                                 \n",
      " block3_pool (MaxPooling2D)  (None, 28, 28, 256)       0         \n",
      "                                                                 \n",
      " block4_conv1 (Conv2D)       (None, 28, 28, 512)       1180160   \n",
      "                                                                 \n",
      " block4_conv2 (Conv2D)       (None, 28, 28, 512)       2359808   \n",
      "                                                                 \n",
      " block4_conv3 (Conv2D)       (None, 28, 28, 512)       2359808   \n",
      "                                                                 \n",
      " block4_pool (MaxPooling2D)  (None, 14, 14, 512)       0         \n",
      "                                                                 \n",
      " block5_conv1 (Conv2D)       (None, 14, 14, 512)       2359808   \n",
      "                                                                 \n",
      " block5_conv2 (Conv2D)       (None, 14, 14, 512)       2359808   \n",
      "                                                                 \n",
      " block5_conv3 (Conv2D)       (None, 14, 14, 512)       2359808   \n",
      "                                                                 \n",
      " block5_pool (MaxPooling2D)  (None, 7, 7, 512)         0         \n",
      "                                                                 \n",
      " flatten (Flatten)           (None, 25088)             0         \n",
      "                                                                 \n",
      " fc1 (Dense)                 (None, 4096)              102764544 \n",
      "                                                                 \n",
      " fc2 (Dense)                 (None, 4096)              16781312  \n",
      "                                                                 \n",
      "=================================================================\n",
      "Total params: 134,260,544\n",
      "Trainable params: 134,260,544\n",
      "Non-trainable params: 0\n",
      "_________________________________________________________________\n"
     ]
    }
   ],
   "source": [
    "model_final.summary()"
   ]
  },
  {
   "cell_type": "code",
   "execution_count": 19,
   "id": "ff83bbb7",
   "metadata": {},
   "outputs": [],
   "source": [
    "def load_image(path):\n",
    "    img = cv2.imread(path)\n",
    "    img = cv2.resize(img, (224, 224))\n",
    "    return img\n"
   ]
  },
  {
   "cell_type": "code",
   "execution_count": 20,
   "id": "e364d4d0",
   "metadata": {},
   "outputs": [
    {
     "name": "stdout",
     "output_type": "stream",
     "text": [
      "0 is running\n",
      "1 is running\n",
      "1 is done\n",
      "2 is running\n",
      "2 is done\n",
      "3 is running\n",
      "3 is done\n",
      "4 is running\n",
      "4 is done\n",
      "5 is running\n",
      "5 is done\n",
      "6 is running\n",
      "6 is done\n",
      "7 is running\n",
      "7 is done\n",
      "8 is running\n",
      "8 is done\n",
      "9 is running\n",
      "9 is done\n",
      "10 is running\n",
      "10 is done\n"
     ]
    }
   ],
   "source": [
    "errors = []\n",
    "for i in range(0,6478):\n",
    "    try:\n",
    "        n_path = os.getcwd() + '\\\\movie_features\\\\' + str(i) + '.npy'\n",
    "        image_list = list(df['image_path'][df['id'] == i])\n",
    "        print(i, 'is running')\n",
    "        if len(image_list) == 80:\n",
    "            images = np.zeros((len(image_list), 224, 224, 3))\n",
    "            for j in range(len(image_list)):\n",
    "                img = load_image(image_list[j])\n",
    "                images[j] = img\n",
    "                \n",
    "            images = np.array(images)\n",
    "            feats = model_final.predict(images, batch_size=128)\n",
    "            img_feats = np.array(feats)\n",
    "            np.save(n_path,img_feats)\n",
    "            print(i, 'is done')\n",
    "    except:\n",
    "        print('Error in: ', i)\n",
    "        errors.append(i)"
   ]
  },
  {
   "cell_type": "code",
   "execution_count": null,
   "id": "c9fe442d",
   "metadata": {},
   "outputs": [],
   "source": [
    "e_df = pd.DataFrame(errors)\n",
    "e_df.to_csv('errors.csv')"
   ]
  },
  {
   "cell_type": "code",
   "execution_count": null,
   "id": "4b39b218",
   "metadata": {},
   "outputs": [],
   "source": []
  },
  {
   "cell_type": "code",
   "execution_count": null,
   "id": "8343ff20",
   "metadata": {},
   "outputs": [],
   "source": []
  }
 ],
 "metadata": {
  "kernelspec": {
   "display_name": "Python 3",
   "language": "python",
   "name": "python3"
  },
  "language_info": {
   "codemirror_mode": {
    "name": "ipython",
    "version": 3
   },
   "file_extension": ".py",
   "mimetype": "text/x-python",
   "name": "python",
   "nbconvert_exporter": "python",
   "pygments_lexer": "ipython3",
   "version": "3.8.8"
  }
 },
 "nbformat": 4,
 "nbformat_minor": 5
}
