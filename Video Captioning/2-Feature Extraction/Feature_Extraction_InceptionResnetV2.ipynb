{
 "cells": [
  {
   "cell_type": "code",
   "execution_count": null,
   "id": "0a1ca30a",
   "metadata": {},
   "outputs": [],
   "source": [
    "import numpy as np\n",
    "import tensorflow as tf \n",
    "from keras.utils import np_utils\n",
    "from keras.models import Model, Sequential, load_model\n",
    "from keras.layers import Dense, Conv2D, MaxPooling2D, Flatten, Reshape, Dropout\n",
    "from keras.preprocessing.image import ImageDataGenerator\n",
    "from keras.applications.vgg16 import VGG16\n",
    "from keras.applications.inception_v3 import InceptionV3\n",
    "from keras.applications.inception_resnet_v2 import InceptionResNetV2\n",
    "from sklearn.metrics import confusion_matrix, classification_report\n",
    "import itertools\n",
    "import cv2\n",
    "import numpy as np\n",
    "import pandas as pd\n",
    "import matplotlib.pyplot as plt\n",
    "import os"
   ]
  },
  {
   "cell_type": "code",
   "execution_count": null,
   "id": "b6bfa7cf",
   "metadata": {},
   "outputs": [],
   "source": [
    "current_path = os.getcwd()\n",
    "a = current_path + '\\\\frames.csv'"
   ]
  },
  {
   "cell_type": "code",
   "execution_count": null,
   "id": "93918328",
   "metadata": {},
   "outputs": [],
   "source": [
    "df = pd.read_csv(a)\n",
    "df.rename(columns={'Unnamed: 0': 'index',\n",
    "                   '0': 'image_path'},\n",
    "          inplace=True)"
   ]
  },
  {
   "cell_type": "code",
   "execution_count": null,
   "id": "dd43a1fa",
   "metadata": {},
   "outputs": [],
   "source": [
    "updated_path = []\n",
    "for i in df['image_path']:\n",
    "    updated_path.append(i.split('\\\\OneDrive')[0] + i.split('\\\\OneDrive')[1].replace('\\\\Sem2\\\\Big Data', ''))\n",
    "    \n",
    "df['image_path'] = updated_path"
   ]
  },
  {
   "cell_type": "code",
   "execution_count": null,
   "id": "b99f88f3",
   "metadata": {},
   "outputs": [],
   "source": [
    "ids = []\n",
    "for i in df['image_path']:\n",
    "    ids.append(i.split('\\\\')[-1].split('-')[0])\n",
    "\n",
    "df['id'] = ids\n",
    "df['id'] = df['id'].astype(int)"
   ]
  },
  {
   "cell_type": "code",
   "execution_count": null,
   "id": "03fe4408",
   "metadata": {},
   "outputs": [],
   "source": [
    "model = InceptionResNetV2(weights=\"imagenet\", include_top=True, input_shape=(299, 299, 3))\n",
    "out = model.layers[-2].output\n",
    "model_final = Model(inputs=model.input, outputs=out)\n",
    "model_final.summary()"
   ]
  },
  {
   "cell_type": "code",
   "execution_count": null,
   "id": "ff83bbb7",
   "metadata": {},
   "outputs": [],
   "source": [
    "def load_image(path):\n",
    "    img = cv2.imread(path)\n",
    "    img = cv2.resize(img, (299, 299))\n",
    "    return img\n"
   ]
  },
  {
   "cell_type": "code",
   "execution_count": null,
   "id": "e364d4d0",
   "metadata": {},
   "outputs": [],
   "source": [
    "errors = []\n",
    "for i in range(1,6478):\n",
    "    try:\n",
    "        n_path = os.getcwd() + '\\\\features_inceptionresnet\\\\' + str(i) + '.npy'\n",
    "        \n",
    "        image_list = list(df['image_path'][df['id'] == i])\n",
    "        print(i, 'is running')\n",
    "        if len(image_list) == 80:\n",
    "            images = np.zeros((len(image_list), 299, 299, 3))\n",
    "            for j in range(len(image_list)):\n",
    "                img = load_image(image_list[j])\n",
    "                images[j] = img\n",
    "            images = np.array(images)\n",
    "            feats = model_final.predict(images, batch_size=128)\n",
    "            \n",
    "            img_feats = np.array(feats)\n",
    "            np.save(n_path,img_feats)\n",
    "            print(i, 'is done')\n",
    "    except:\n",
    "        print('Error in: ', i)\n",
    "        errors.append(i)"
   ]
  },
  {
   "cell_type": "code",
   "execution_count": null,
   "id": "c9fe442d",
   "metadata": {},
   "outputs": [],
   "source": [
    "e_df = pd.DataFrame(errors)\n",
    "e_df.to_csv('errors.csv')"
   ]
  }
 ],
 "metadata": {
  "kernelspec": {
   "display_name": "Python 3",
   "language": "python",
   "name": "python3"
  },
  "language_info": {
   "codemirror_mode": {
    "name": "ipython",
    "version": 3
   },
   "file_extension": ".py",
   "mimetype": "text/x-python",
   "name": "python",
   "nbconvert_exporter": "python",
   "pygments_lexer": "ipython3",
   "version": "3.8.8"
  }
 },
 "nbformat": 4,
 "nbformat_minor": 5
}
