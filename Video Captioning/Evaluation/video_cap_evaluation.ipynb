{
  "nbformat": 4,
  "nbformat_minor": 0,
  "metadata": {
    "colab": {
      "name": "video_cap_evaluation.ipynb",
      "provenance": []
    },
    "kernelspec": {
      "name": "python3",
      "display_name": "Python 3"
    },
    "language_info": {
      "name": "python"
    }
  },
  "cells": [
    {
      "cell_type": "code",
      "execution_count": null,
      "metadata": {
        "id": "av2fzlZhHBoA"
      },
      "outputs": [],
      "source": [
        "# import  nltk.translate.bleu_score as bleu\n",
        "import numpy as np\n",
        "import pandas as pd\n",
        "from nltk.translate.bleu_score import corpus_bleu"
      ]
    },
    {
      "cell_type": "code",
      "source": [
        "df = pd.read_csv('/content/outputs_org.txt', delimiter = \" \")\n",
        "df2 = pd.read_csv('/content/outputssss - Copy.txt', delimiter = \" \")"
      ],
      "metadata": {
        "id": "qn0s0G8tHxHW"
      },
      "execution_count": null,
      "outputs": []
    },
    {
      "cell_type": "code",
      "source": [
        "a = df['predicted'].to_list()\n",
        "new = []\n",
        "for i in a:\n",
        "  y = i.split()\n",
        "  new.append(y)\n",
        "\n",
        "actual = new"
      ],
      "metadata": {
        "id": "i4c4V_yLIHAN"
      },
      "execution_count": null,
      "outputs": []
    },
    {
      "cell_type": "code",
      "source": [
        "b = df2['actual'].to_list()\n",
        "new2 = []\n",
        "for i in b:\n",
        "  y = i.split()\n",
        "  new2.append(y)\n",
        "\n",
        "predicted = new2"
      ],
      "metadata": {
        "id": "GJPRucJ4IIYt"
      },
      "execution_count": null,
      "outputs": []
    },
    {
      "cell_type": "code",
      "source": [
        "\n",
        "print('BLEU-1: %f' % corpus_bleu(actual, predicted, weights=(1.0, 0, 0, 0)))\n",
        "print('BLEU-2: %f' % corpus_bleu(actual, predicted, weights=(0.5, 0.5, 0, 0)))\n",
        "print('BLEU-3: %f' % corpus_bleu(actual, predicted, weights=(0.3, 0.3, 0.3, 0)))\n",
        "print('BLEU-4: %f' % corpus_bleu(actual, predicted, weights=(0.25, 0.25, 0.25, 0.25)))"
      ],
      "metadata": {
        "colab": {
          "base_uri": "https://localhost:8080/"
        },
        "id": "kdLSS3PtJ9Eh",
        "outputId": "38c6fc6a-5ed2-472e-c869-c801096efb03"
      },
      "execution_count": null,
      "outputs": [
        {
          "output_type": "stream",
          "name": "stdout",
          "text": [
            "BLEU-1: 0.137363\n",
            "BLEU-2: 0.370625\n",
            "BLEU-3: 0.551265\n",
            "BLEU-4: 0.608790\n"
          ]
        },
        {
          "output_type": "stream",
          "name": "stderr",
          "text": [
            "/usr/local/lib/python3.7/dist-packages/nltk/translate/bleu_score.py:490: UserWarning: \n",
            "Corpus/Sentence contains 0 counts of 2-gram overlaps.\n",
            "BLEU scores might be undesirable; use SmoothingFunction().\n",
            "  warnings.warn(_msg)\n"
          ]
        }
      ]
    },
    {
      "cell_type": "code",
      "source": [
        "df3 = pd.DataFrame(columns = ['ID','Actual','Predicted'])\n",
        "df3['ID'] = df['ID']\n",
        "df3['Actual'] = df['predicted']\n",
        "df3['Predicted'] = df2['actual']"
      ],
      "metadata": {
        "id": "qdWmwEY-Lkfi"
      },
      "execution_count": null,
      "outputs": []
    },
    {
      "cell_type": "code",
      "source": [
        "df4 = df3.style.set_table_styles([dict(selector='th', props=[('text-align', 'center')])])\n",
        "df4"
      ],
      "metadata": {
        "colab": {
          "base_uri": "https://localhost:8080/",
          "height": 802
        },
        "id": "gSmc2wb3Q5cf",
        "outputId": "11f38a0c-6325-44cc-e10b-02993fcacf0a"
      },
      "execution_count": null,
      "outputs": [
        {
          "output_type": "execute_result",
          "data": {
            "text/plain": [
              "<pandas.io.formats.style.Styler at 0x7fd2c62f2dd0>"
            ],
            "text/html": [
              "<style type=\"text/css\">\n",
              "#T_abd81_ th {\n",
              "  text-align: center;\n",
              "}\n",
              "</style>\n",
              "<table id=\"T_abd81_\" class=\"dataframe\">\n",
              "  <thead>\n",
              "    <tr>\n",
              "      <th class=\"blank level0\" >&nbsp;</th>\n",
              "      <th class=\"col_heading level0 col0\" >ID</th>\n",
              "      <th class=\"col_heading level0 col1\" >Actual</th>\n",
              "      <th class=\"col_heading level0 col2\" >Predicted</th>\n",
              "    </tr>\n",
              "  </thead>\n",
              "  <tbody>\n",
              "    <tr>\n",
              "      <th id=\"T_abd81_level0_row0\" class=\"row_heading level0 row0\" >0</th>\n",
              "      <td id=\"T_abd81_row0_col0\" class=\"data row0 col0\" >16</td>\n",
              "      <td id=\"T_abd81_row0_col1\" class=\"data row0 col1\" >Tan cat bats and bites at cord held by fingers</td>\n",
              "      <td id=\"T_abd81_row0_col2\" class=\"data row0 col2\" >a cat in a room </td>\n",
              "    </tr>\n",
              "    <tr>\n",
              "      <th id=\"T_abd81_level0_row1\" class=\"row_heading level0 row1\" >1</th>\n",
              "      <td id=\"T_abd81_row1_col0\" class=\"data row1 col0\" >38</td>\n",
              "      <td id=\"T_abd81_row1_col1\" class=\"data row1 col1\" >Several men stand by a wall </td>\n",
              "      <td id=\"T_abd81_row1_col2\" class=\"data row1 col2\" >a group of men are standing in a room </td>\n",
              "    </tr>\n",
              "    <tr>\n",
              "      <th id=\"T_abd81_level0_row2\" class=\"row_heading level0 row2\" >2</th>\n",
              "      <td id=\"T_abd81_row2_col0\" class=\"data row2 col0\" >295</td>\n",
              "      <td id=\"T_abd81_row2_col1\" class=\"data row2 col1\" >Toddler in bathtub plays with toys </td>\n",
              "      <td id=\"T_abd81_row2_col2\" class=\"data row2 col2\" >a man in a bathtub </td>\n",
              "    </tr>\n",
              "    <tr>\n",
              "      <th id=\"T_abd81_level0_row3\" class=\"row_heading level0 row3\" >3</th>\n",
              "      <td id=\"T_abd81_row3_col0\" class=\"data row3 col0\" >297</td>\n",
              "      <td id=\"T_abd81_row3_col1\" class=\"data row3 col1\" >three dolls moving side to side while music is playing in an indoor room</td>\n",
              "      <td id=\"T_abd81_row3_col2\" class=\"data row3 col2\" >a group of women dancing on a stage </td>\n",
              "    </tr>\n",
              "    <tr>\n",
              "      <th id=\"T_abd81_level0_row4\" class=\"row_heading level0 row4\" >4</th>\n",
              "      <td id=\"T_abd81_row4_col0\" class=\"data row4 col0\" >302</td>\n",
              "      <td id=\"T_abd81_row4_col1\" class=\"data row4 col1\" > Two men dressed in black talk in front of a yelling audience </td>\n",
              "      <td id=\"T_abd81_row4_col2\" class=\"data row4 col2\" >a man is dancing on a stage </td>\n",
              "    </tr>\n",
              "    <tr>\n",
              "      <th id=\"T_abd81_level0_row5\" class=\"row_heading level0 row5\" >5</th>\n",
              "      <td id=\"T_abd81_row5_col0\" class=\"data row5 col0\" >307</td>\n",
              "      <td id=\"T_abd81_row5_col1\" class=\"data row5 col1\" >Two orange cats wrestle on a light tan couch</td>\n",
              "      <td id=\"T_abd81_row5_col2\" class=\"data row5 col2\" >a dog is sleeping on a couch </td>\n",
              "    </tr>\n",
              "    <tr>\n",
              "      <th id=\"T_abd81_level0_row6\" class=\"row_heading level0 row6\" >6</th>\n",
              "      <td id=\"T_abd81_row6_col0\" class=\"data row6 col0\" >309</td>\n",
              "      <td id=\"T_abd81_row6_col1\" class=\"data row6 col1\" >A group of three guys are sitting at a dining table talking in a room during the daytime</td>\n",
              "      <td id=\"T_abd81_row6_col2\" class=\"data row6 col2\" >two men are talking in a room </td>\n",
              "    </tr>\n",
              "    <tr>\n",
              "      <th id=\"T_abd81_level0_row7\" class=\"row_heading level0 row7\" >7</th>\n",
              "      <td id=\"T_abd81_row7_col0\" class=\"data row7 col0\" >384</td>\n",
              "      <td id=\"T_abd81_row7_col1\" class=\"data row7 col1\" >a man is walking down a street </td>\n",
              "      <td id=\"T_abd81_row7_col2\" class=\"data row7 col2\" >a man is walking down a street </td>\n",
              "    </tr>\n",
              "    <tr>\n",
              "      <th id=\"T_abd81_level0_row8\" class=\"row_heading level0 row8\" >8</th>\n",
              "      <td id=\"T_abd81_row8_col0\" class=\"data row8 col0\" >397</td>\n",
              "      <td id=\"T_abd81_row8_col1\" class=\"data row8 col1\" >A bus is stalled blocking 2 lanes of traffic on a snowy winter night </td>\n",
              "      <td id=\"T_abd81_row8_col2\" class=\"data row8 col2\" >a young man is on a tree on a street </td>\n",
              "    </tr>\n",
              "    <tr>\n",
              "      <th id=\"T_abd81_level0_row9\" class=\"row_heading level0 row9\" >9</th>\n",
              "      <td id=\"T_abd81_row9_col0\" class=\"data row9 col0\" >408</td>\n",
              "      <td id=\"T_abd81_row9_col1\" class=\"data row9 col1\" >Baby rides in car seat in car with a pacifier in its mouth</td>\n",
              "      <td id=\"T_abd81_row9_col2\" class=\"data row9 col2\" >a boy sitting on a car seat of a car </td>\n",
              "    </tr>\n",
              "    <tr>\n",
              "      <th id=\"T_abd81_level0_row10\" class=\"row_heading level0 row10\" >10</th>\n",
              "      <td id=\"T_abd81_row10_col0\" class=\"data row10 col0\" >411</td>\n",
              "      <td id=\"T_abd81_row10_col1\" class=\"data row10 col1\" >Indoors, a woman then a man tap dance on small raised area on wooden floor </td>\n",
              "      <td id=\"T_abd81_row10_col2\" class=\"data row10 col2\" >two men are dancing on a stage </td>\n",
              "    </tr>\n",
              "    <tr>\n",
              "      <th id=\"T_abd81_level0_row11\" class=\"row_heading level0 row11\" >11</th>\n",
              "      <td id=\"T_abd81_row11_col0\" class=\"data row11 col0\" >462</td>\n",
              "      <td id=\"T_abd81_row11_col1\" class=\"data row11 col1\" >A person in a yellow life preserver tries to swim over to a small boat.</td>\n",
              "      <td id=\"T_abd81_row11_col2\" class=\"data row11 col2\" >a person in a water in the daytime </td>\n",
              "    </tr>\n",
              "    <tr>\n",
              "      <th id=\"T_abd81_level0_row12\" class=\"row_heading level0 row12\" >12</th>\n",
              "      <td id=\"T_abd81_row12_col0\" class=\"data row12 col0\" >539</td>\n",
              "      <td id=\"T_abd81_row12_col1\" class=\"data row12 col1\" >On a stage, two men with guitars and one in skeleton mask and pirate hat holding sparklers </td>\n",
              "      <td id=\"T_abd81_row12_col2\" class=\"data row12 col2\" >a man is singing on a stage </td>\n",
              "    </tr>\n",
              "    <tr>\n",
              "      <th id=\"T_abd81_level0_row13\" class=\"row_heading level0 row13\" >13</th>\n",
              "      <td id=\"T_abd81_row13_col0\" class=\"data row13 col0\" >572</td>\n",
              "      <td id=\"T_abd81_row13_col1\" class=\"data row13 col1\" >a biker is cycling on the road, at day time </td>\n",
              "      <td id=\"T_abd81_row13_col2\" class=\"data row13 col2\" >a man is riding in a car </td>\n",
              "    </tr>\n",
              "    <tr>\n",
              "      <th id=\"T_abd81_level0_row14\" class=\"row_heading level0 row14\" >14</th>\n",
              "      <td id=\"T_abd81_row14_col0\" class=\"data row14 col0\" >573</td>\n",
              "      <td id=\"T_abd81_row14_col1\" class=\"data row14 col1\" >A small child in pink boots and a red jacket plays in a puddle then carries a stick </td>\n",
              "      <td id=\"T_abd81_row14_col2\" class=\"data row14 col2\" >a young man wearing a red shirt is jumping on a road </td>\n",
              "    </tr>\n",
              "    <tr>\n",
              "      <th id=\"T_abd81_level0_row15\" class=\"row_heading level0 row15\" >15</th>\n",
              "      <td id=\"T_abd81_row15_col0\" class=\"data row15 col0\" >589</td>\n",
              "      <td id=\"T_abd81_row15_col1\" class=\"data row15 col1\" >A man guiding a plow pulled by an ox walks through a muddy hillside field</td>\n",
              "      <td id=\"T_abd81_row15_col2\" class=\"data row15 col2\" >a man is running on a field </td>\n",
              "    </tr>\n",
              "    <tr>\n",
              "      <th id=\"T_abd81_level0_row16\" class=\"row_heading level0 row16\" >16</th>\n",
              "      <td id=\"T_abd81_row16_col0\" class=\"data row16 col0\" >599</td>\n",
              "      <td id=\"T_abd81_row16_col1\" class=\"data row16 col1\" >Person watching items suspended by wire being raised and lowered</td>\n",
              "      <td id=\"T_abd81_row16_col2\" class=\"data row16 col2\" >a young man in a kitchen </td>\n",
              "    </tr>\n",
              "    <tr>\n",
              "      <th id=\"T_abd81_level0_row17\" class=\"row_heading level0 row17\" >17</th>\n",
              "      <td id=\"T_abd81_row17_col0\" class=\"data row17 col0\" >606</td>\n",
              "      <td id=\"T_abd81_row17_col1\" class=\"data row17 col1\" >Someone showing photos in a picture album </td>\n",
              "      <td id=\"T_abd81_row17_col2\" class=\"data row17 col2\" >a video of a video of a person </td>\n",
              "    </tr>\n",
              "    <tr>\n",
              "      <th id=\"T_abd81_level0_row18\" class=\"row_heading level0 row18\" >18</th>\n",
              "      <td id=\"T_abd81_row18_col0\" class=\"data row18 col0\" >676</td>\n",
              "      <td id=\"T_abd81_row18_col1\" class=\"data row18 col1\" >Toddler walking in a room is holding onto a chair and falls down </td>\n",
              "      <td id=\"T_abd81_row18_col2\" class=\"data row18 col2\" >a toddler is dancing in a bed </td>\n",
              "    </tr>\n",
              "    <tr>\n",
              "      <th id=\"T_abd81_level0_row19\" class=\"row_heading level0 row19\" >19</th>\n",
              "      <td id=\"T_abd81_row19_col0\" class=\"data row19 col0\" >694</td>\n",
              "      <td id=\"T_abd81_row19_col1\" class=\"data row19 col1\" >An explosion shakes a building during the night </td>\n",
              "      <td id=\"T_abd81_row19_col2\" class=\"data row19 col2\" >a crowd of people in a night </td>\n",
              "    </tr>\n",
              "    <tr>\n",
              "      <th id=\"T_abd81_level0_row20\" class=\"row_heading level0 row20\" >20</th>\n",
              "      <td id=\"T_abd81_row20_col0\" class=\"data row20 col0\" >692</td>\n",
              "      <td id=\"T_abd81_row20_col1\" class=\"data row20 col1\" >a group of people are dancing in a street </td>\n",
              "      <td id=\"T_abd81_row20_col2\" class=\"data row20 col2\" >a group of people are dancing in a street </td>\n",
              "    </tr>\n",
              "    <tr>\n",
              "      <th id=\"T_abd81_level0_row21\" class=\"row_heading level0 row21\" >21</th>\n",
              "      <td id=\"T_abd81_row21_col0\" class=\"data row21 col0\" >745</td>\n",
              "      <td id=\"T_abd81_row21_col1\" class=\"data row21 col1\" >An US Army tank riding down the street with trees on either side on a sunny day </td>\n",
              "      <td id=\"T_abd81_row21_col2\" class=\"data row21 col2\" >a car on the road </td>\n",
              "    </tr>\n",
              "    <tr>\n",
              "      <th id=\"T_abd81_level0_row22\" class=\"row_heading level0 row22\" >22</th>\n",
              "      <td id=\"T_abd81_row22_col0\" class=\"data row22 col0\" >756</td>\n",
              "      <td id=\"T_abd81_row22_col1\" class=\"data row22 col1\" >Two female Park Rangers talk into the camera on a cloudy day</td>\n",
              "      <td id=\"T_abd81_row22_col2\" class=\"data row22 col2\" >a man is talking to a crowd </td>\n",
              "    </tr>\n",
              "    <tr>\n",
              "      <th id=\"T_abd81_level0_row23\" class=\"row_heading level0 row23\" >23</th>\n",
              "      <td id=\"T_abd81_row23_col0\" class=\"data row23 col0\" >799</td>\n",
              "      <td id=\"T_abd81_row23_col1\" class=\"data row23 col1\" > A young woman sings along with a song, then dances to the same music in a room</td>\n",
              "      <td id=\"T_abd81_row23_col2\" class=\"data row23 col2\" >a woman is talking to the camera in a room </td>\n",
              "    </tr>\n",
              "  </tbody>\n",
              "</table>\n"
            ]
          },
          "metadata": {},
          "execution_count": 55
        }
      ]
    },
    {
      "cell_type": "code",
      "source": [
        ""
      ],
      "metadata": {
        "id": "0a4zdJOIRMJz"
      },
      "execution_count": null,
      "outputs": []
    }
  ]
}