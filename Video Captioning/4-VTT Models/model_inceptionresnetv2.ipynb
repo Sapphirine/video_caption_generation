{
 "cells": [
  {
   "cell_type": "code",
   "execution_count": 1,
   "metadata": {
    "id": "bW0h3Hc0j2Ec"
   },
   "outputs": [],
   "source": [
    "import pandas as pd\n",
    "import numpy as np\n",
    "\n",
    "import os, sys\n",
    "import pickle, functools, operator\n",
    "import keras\n",
    "from keras.preprocessing.text import Tokenizer\n",
    "from keras.preprocessing.sequence import pad_sequences\n",
    "import joblib\n",
    "from tensorflow.keras.utils import to_categorical\n",
    "from keras.models import Model, load_model\n",
    "from keras.layers import Input, LSTM, Dense\n",
    "from keras.callbacks import EarlyStopping, ModelCheckpoint\n",
    "import json\n",
    "import random\n",
    "from keras.utils.vis_utils import plot_model\n",
    "\n",
    "import tensorflow as tf\n",
    "import datetime"
   ]
  },
  {
   "cell_type": "code",
   "execution_count": 2,
   "metadata": {
    "id": "dHYyxqsyuMgu"
   },
   "outputs": [],
   "source": [
    "training_df = pd.read_csv(os.getcwd() + \"\\\\captions_lists\\\\training_list.csv\")\n",
    "val_df = pd.read_csv(os.getcwd() + \"\\\\captions_lists\\\\validation_list.csv\")"
   ]
  },
  {
   "cell_type": "code",
   "execution_count": 3,
   "metadata": {
    "id": "9TGyFQHzyDsE"
   },
   "outputs": [],
   "source": [
    "training_list = training_df.values.tolist()\n",
    "validation_list = val_df.values.tolist()"
   ]
  },
  {
   "cell_type": "code",
   "execution_count": 5,
   "metadata": {
    "id": "Mv3hXI_DyFaj"
   },
   "outputs": [],
   "source": [
    "vocab_list = []\n",
    "for train in training_list:\n",
    "    vocab_list.append(train[0])"
   ]
  },
  {
   "cell_type": "code",
   "execution_count": 6,
   "metadata": {
    "id": "1XAPTZJtykV7"
   },
   "outputs": [],
   "source": [
    "tokenizer = Tokenizer(num_words=500)\n",
    "tokenizer.fit_on_texts(vocab_list)"
   ]
  },
  {
   "cell_type": "code",
   "execution_count": 7,
   "metadata": {
    "colab": {
     "base_uri": "https://localhost:8080/"
    },
    "id": "SNsbhmnj0ybB",
    "outputId": "bb6b908d-01a1-46bb-ea7c-f7cd04b53fcb"
   },
   "outputs": [
    {
     "name": "stdout",
     "output_type": "stream",
     "text": [
      "Model: \"model\"\n",
      "__________________________________________________________________________________________________\n",
      " Layer (type)                   Output Shape         Param #     Connected to                     \n",
      "==================================================================================================\n",
      " encoder_inputs (InputLayer)    [(None, 80, 1536)]   0           []                               \n",
      "                                                                                                  \n",
      " decoder_inputs (InputLayer)    [(None, 10, 500)]    0           []                               \n",
      "                                                                                                  \n",
      " endcoder_lstm (LSTM)           [(None, 80, 512),    4196352     ['encoder_inputs[0][0]']         \n",
      "                                 (None, 512),                                                     \n",
      "                                 (None, 512)]                                                     \n",
      "                                                                                                  \n",
      " decoder_lstm (LSTM)            [(None, 10, 512),    2074624     ['decoder_inputs[0][0]',         \n",
      "                                 (None, 512),                     'endcoder_lstm[0][1]',          \n",
      "                                 (None, 512)]                     'endcoder_lstm[0][2]']          \n",
      "                                                                                                  \n",
      " decoder_relu (Dense)           (None, 10, 500)      256500      ['decoder_lstm[0][0]']           \n",
      "                                                                                                  \n",
      "==================================================================================================\n",
      "Total params: 6,527,476\n",
      "Trainable params: 6,527,476\n",
      "Non-trainable params: 0\n",
      "__________________________________________________________________________________________________\n"
     ]
    }
   ],
   "source": [
    "time_steps_encoder=80\n",
    "num_encoder_tokens=1536\n",
    "latent_dim=512\n",
    "time_steps_decoder=10\n",
    "num_decoder_tokens=500\n",
    "batch_size=160\n",
    "\n",
    "encoder_inputs = Input(shape=(time_steps_encoder, num_encoder_tokens), name=\"encoder_inputs\")\n",
    "encoder = LSTM(latent_dim, return_state=True,return_sequences=True, name='endcoder_lstm')\n",
    "_, state_h, state_c = encoder(encoder_inputs)\n",
    "encoder_states = [state_h, state_c]\n",
    "\n",
    "\n",
    "# Set up the decoder\n",
    "decoder_inputs = Input(shape=(time_steps_decoder, num_decoder_tokens), name= \"decoder_inputs\")\n",
    "decoder_lstm = LSTM(latent_dim, return_sequences=True, return_state=True, name='decoder_lstm')\n",
    "decoder_outputs, _, _ = decoder_lstm(decoder_inputs, initial_state=encoder_states)\n",
    "decoder_dense = Dense(num_decoder_tokens, activation='softmax', name='decoder_relu')\n",
    "decoder_outputs = decoder_dense(decoder_outputs)\n",
    "\n",
    "\n",
    "model = Model([encoder_inputs, decoder_inputs], decoder_outputs)\n",
    "model.summary()"
   ]
  },
  {
   "cell_type": "code",
   "execution_count": 8,
   "metadata": {},
   "outputs": [
    {
     "data": {
      "text/plain": [
       "'C:\\\\Users\\\\sunja\\\\Documents\\\\videos\\\\features_resnet'"
      ]
     },
     "execution_count": 8,
     "metadata": {},
     "output_type": "execute_result"
    }
   ],
   "source": [
    "os.getcwd() + '\\\\features_resnet'"
   ]
  },
  {
   "cell_type": "code",
   "execution_count": 9,
   "metadata": {
    "id": "4hz8om1QYNMj"
   },
   "outputs": [],
   "source": [
    "x_data = {}\n",
    "# Loading all the numpy arrays at once and saving them in a dictionary\n",
    "for filename in os.listdir(os.getcwd() + '\\\\features_resnet'):\n",
    "    f = np.load(os.getcwd() + '\\\\features_resnet\\\\' + filename)\n",
    "    x_data[int(filename[:-4])] = f"
   ]
  },
  {
   "cell_type": "code",
   "execution_count": 11,
   "metadata": {
    "id": "dzOQ0_OLK6yK"
   },
   "outputs": [],
   "source": [
    "train = load_datatest(batch_size=160, training_list=training_list, x_data=x_data, epochs=150)\n",
    "valid = load_datatest(batch_size=160, training_list=validation_list, x_data=x_data, epochs=150)\n",
    "time_steps_encoder=80\n",
    "num_encoder_tokens=1536\n",
    "\n",
    "latent_dim=512\n",
    "time_steps_decoder=10\n",
    "\n",
    "num_decoder_tokens=500\n",
    "batch_size= 320"
   ]
  },
  {
   "cell_type": "code",
   "execution_count": 12,
   "metadata": {
    "id": "NKPXDfvOSMFY"
   },
   "outputs": [],
   "source": [
    "#encoder\n",
    "encoder_inputs = Input(shape=(time_steps_encoder, num_encoder_tokens), name=\"encoder_inputs\")\n",
    "encoder = LSTM(latent_dim, return_state=True,return_sequences=True, name='endcoder_lstm')\n",
    "_, state_h, state_c = encoder(encoder_inputs)\n",
    "encoder_states = [state_h, state_c]\n",
    "\n",
    "\n",
    "# decoder\n",
    "decoder_inputs = Input(shape=(time_steps_decoder, num_decoder_tokens), name= \"decoder_inputs\")\n",
    "decoder_lstm = LSTM(latent_dim, return_sequences=True, return_state=True, name='decoder_lstm')\n",
    "decoder_outputs, _, _ = decoder_lstm(decoder_inputs, initial_state=encoder_states)\n",
    "decoder_dense = Dense(num_decoder_tokens, activation='softmax', name='decoder_relu')\n",
    "decoder_outputs = decoder_dense(decoder_outputs)\n",
    "\n",
    "\n"
   ]
  },
  {
   "cell_type": "code",
   "execution_count": 13,
   "metadata": {},
   "outputs": [
    {
     "name": "stdout",
     "output_type": "stream",
     "text": [
      "Model: \"model_1\"\n",
      "__________________________________________________________________________________________________\n",
      " Layer (type)                   Output Shape         Param #     Connected to                     \n",
      "==================================================================================================\n",
      " encoder_inputs (InputLayer)    [(None, 80, 1536)]   0           []                               \n",
      "                                                                                                  \n",
      " decoder_inputs (InputLayer)    [(None, 10, 500)]    0           []                               \n",
      "                                                                                                  \n",
      " endcoder_lstm (LSTM)           [(None, 80, 512),    4196352     ['encoder_inputs[0][0]']         \n",
      "                                 (None, 512),                                                     \n",
      "                                 (None, 512)]                                                     \n",
      "                                                                                                  \n",
      " decoder_lstm (LSTM)            [(None, 10, 512),    2074624     ['decoder_inputs[0][0]',         \n",
      "                                 (None, 512),                     'endcoder_lstm[0][1]',          \n",
      "                                 (None, 512)]                     'endcoder_lstm[0][2]']          \n",
      "                                                                                                  \n",
      " decoder_relu (Dense)           (None, 10, 500)      256500      ['decoder_lstm[0][0]']           \n",
      "                                                                                                  \n",
      "==================================================================================================\n",
      "Total params: 6,527,476\n",
      "Trainable params: 6,527,476\n",
      "Non-trainable params: 0\n",
      "__________________________________________________________________________________________________\n"
     ]
    }
   ],
   "source": [
    "model = Model([encoder_inputs, decoder_inputs], decoder_outputs)\n",
    "model.summary()"
   ]
  },
  {
   "cell_type": "code",
   "execution_count": 15,
   "metadata": {},
   "outputs": [
    {
     "name": "stderr",
     "output_type": "stream",
     "text": [
      "C:\\Users\\sunja\\anaconda3\\lib\\site-packages\\keras\\optimizer_v2\\adam.py:105: UserWarning: The `lr` argument is deprecated, use `learning_rate` instead.\n",
      "  super(Adam, self).__init__(name, **kwargs)\n"
     ]
    }
   ],
   "source": [
    "# Early Stopping\n",
    "earlystopping = EarlyStopping(monitor='val_loss', patience = 5, verbose=1, mode='min')\n",
    "\n",
    "# Tensorboard callback\n",
    "logdir = os.path.join(\"logs\", datetime.datetime.now().strftime(\"%Y%m%d-%H%M%S\"))\n",
    "tensorboard_callback = tf.keras.callbacks.TensorBoard(logdir, histogram_freq=1)\n",
    "\n",
    "# Run training\n",
    "opt = tf.keras.optimizers.Adam(lr = 0.0003)\n",
    "x = tf.keras.callbacks.ReduceLROnPlateau(monitor=\"val_loss\", factor=0.1,patience=2,verbose=0,mode=\"auto\")\n",
    "model.compile(metrics=['accuracy'], optimizer=opt, loss='categorical_crossentropy')"
   ]
  },
  {
   "cell_type": "code",
   "execution_count": 16,
   "metadata": {},
   "outputs": [
    {
     "name": "stderr",
     "output_type": "stream",
     "text": [
      "<ipython-input-10-d5f323864267>:16: VisibleDeprecationWarning: Creating an ndarray from ragged nested sequences (which is a list-or-tuple of lists-or-tuples-or ndarrays with different lengths or shapes) is deprecated. If you meant to do this, you must specify 'dtype=object' when creating the ndarray.\n",
      "  train_sequences = np.array(train_sequences)\n"
     ]
    },
    {
     "name": "stdout",
     "output_type": "stream",
     "text": [
      "Epoch 1/150\n",
      "44/44 [==============================] - 271s 6s/step - loss: 4.9572 - accuracy: 0.1421 - val_loss: 4.5866 - val_accuracy: 0.1522 - lr: 3.0000e-04\n",
      "Epoch 2/150\n",
      "44/44 [==============================] - 299s 7s/step - loss: 4.5565 - accuracy: 0.1604 - val_loss: 4.5060 - val_accuracy: 0.1670 - lr: 3.0000e-04\n",
      "Epoch 3/150\n",
      "44/44 [==============================] - 263s 6s/step - loss: 4.5034 - accuracy: 0.1696 - val_loss: 4.4638 - val_accuracy: 0.1740 - lr: 3.0000e-04\n",
      "Epoch 4/150\n",
      "44/44 [==============================] - 280s 6s/step - loss: 4.4538 - accuracy: 0.1777 - val_loss: 4.4033 - val_accuracy: 0.1782 - lr: 3.0000e-04\n",
      "Epoch 5/150\n",
      "44/44 [==============================] - 275s 6s/step - loss: 4.3979 - accuracy: 0.1901 - val_loss: 4.3355 - val_accuracy: 0.1936 - lr: 3.0000e-04\n",
      "Epoch 6/150\n",
      "44/44 [==============================] - 273s 6s/step - loss: 4.3324 - accuracy: 0.2009 - val_loss: 4.2762 - val_accuracy: 0.2098 - lr: 3.0000e-04\n",
      "Epoch 7/150\n",
      "44/44 [==============================] - 289s 7s/step - loss: 4.2636 - accuracy: 0.2140 - val_loss: 4.2088 - val_accuracy: 0.2319 - lr: 3.0000e-04\n",
      "Epoch 8/150\n",
      "44/44 [==============================] - 292s 7s/step - loss: 4.1840 - accuracy: 0.2284 - val_loss: 4.1379 - val_accuracy: 0.2362 - lr: 3.0000e-04\n",
      "Epoch 9/150\n",
      "44/44 [==============================] - 312s 7s/step - loss: 4.1136 - accuracy: 0.2433 - val_loss: 4.0525 - val_accuracy: 0.2497 - lr: 3.0000e-04\n",
      "Epoch 10/150\n",
      "44/44 [==============================] - 322s 7s/step - loss: 4.0248 - accuracy: 0.2520 - val_loss: 3.9780 - val_accuracy: 0.2600 - lr: 3.0000e-04\n",
      "Epoch 11/150\n",
      "44/44 [==============================] - 326s 7s/step - loss: 3.9646 - accuracy: 0.2569 - val_loss: 3.9191 - val_accuracy: 0.2630 - lr: 3.0000e-04\n",
      "Epoch 12/150\n",
      "44/44 [==============================] - 292s 7s/step - loss: 3.8908 - accuracy: 0.2668 - val_loss: 3.8500 - val_accuracy: 0.2754 - lr: 3.0000e-04\n",
      "Epoch 13/150\n",
      "44/44 [==============================] - 207s 5s/step - loss: 3.8326 - accuracy: 0.2745 - val_loss: 3.7931 - val_accuracy: 0.2810 - lr: 3.0000e-04\n",
      "Epoch 14/150\n",
      "44/44 [==============================] - 273s 6s/step - loss: 3.7676 - accuracy: 0.2826 - val_loss: 3.7625 - val_accuracy: 0.2816 - lr: 3.0000e-04\n",
      "Epoch 15/150\n",
      "44/44 [==============================] - 299s 7s/step - loss: 3.7289 - accuracy: 0.2852 - val_loss: 3.7025 - val_accuracy: 0.2881 - lr: 3.0000e-04\n",
      "Epoch 16/150\n",
      "44/44 [==============================] - 286s 7s/step - loss: 3.6737 - accuracy: 0.2910 - val_loss: 3.6612 - val_accuracy: 0.2934 - lr: 3.0000e-04\n",
      "Epoch 17/150\n",
      "44/44 [==============================] - 293s 7s/step - loss: 3.6340 - accuracy: 0.2936 - val_loss: 3.6161 - val_accuracy: 0.2941 - lr: 3.0000e-04\n",
      "Epoch 18/150\n",
      "44/44 [==============================] - 296s 7s/step - loss: 3.5832 - accuracy: 0.2993 - val_loss: 3.5836 - val_accuracy: 0.2961 - lr: 3.0000e-04\n",
      "Epoch 19/150\n",
      "44/44 [==============================] - 305s 7s/step - loss: 3.5565 - accuracy: 0.3000 - val_loss: 3.5520 - val_accuracy: 0.2990 - lr: 3.0000e-04\n",
      "Epoch 20/150\n",
      "44/44 [==============================] - 290s 7s/step - loss: 3.5138 - accuracy: 0.3043 - val_loss: 3.5306 - val_accuracy: 0.2992 - lr: 3.0000e-04\n",
      "Epoch 21/150\n",
      "44/44 [==============================] - 293s 7s/step - loss: 3.4908 - accuracy: 0.3051 - val_loss: 3.5038 - val_accuracy: 0.3058 - lr: 3.0000e-04\n",
      "Epoch 22/150\n",
      "44/44 [==============================] - 297s 7s/step - loss: 3.4556 - accuracy: 0.3090 - val_loss: 3.4695 - val_accuracy: 0.3098 - lr: 3.0000e-04\n",
      "Epoch 23/150\n",
      "44/44 [==============================] - 303s 7s/step - loss: 3.4385 - accuracy: 0.3099 - val_loss: 3.4506 - val_accuracy: 0.3100 - lr: 3.0000e-04\n",
      "Epoch 24/150\n",
      "44/44 [==============================] - 273s 6s/step - loss: 3.4014 - accuracy: 0.3138 - val_loss: 3.4303 - val_accuracy: 0.3131 - lr: 3.0000e-04\n",
      "Epoch 25/150\n",
      "44/44 [==============================] - 282s 6s/step - loss: 3.3911 - accuracy: 0.3141 - val_loss: 3.4151 - val_accuracy: 0.3131 - lr: 3.0000e-04\n",
      "Epoch 26/150\n",
      "44/44 [==============================] - 260s 6s/step - loss: 3.3562 - accuracy: 0.3170 - val_loss: 3.3978 - val_accuracy: 0.3145 - lr: 3.0000e-04\n",
      "Epoch 27/150\n",
      "44/44 [==============================] - 269s 6s/step - loss: 3.3510 - accuracy: 0.3180 - val_loss: 3.3776 - val_accuracy: 0.3153 - lr: 3.0000e-04\n",
      "Epoch 28/150\n",
      "44/44 [==============================] - 285s 7s/step - loss: 3.3149 - accuracy: 0.3215 - val_loss: 3.3605 - val_accuracy: 0.3151 - lr: 3.0000e-04\n",
      "Epoch 29/150\n",
      "44/44 [==============================] - 300s 7s/step - loss: 3.3135 - accuracy: 0.3207 - val_loss: 3.3487 - val_accuracy: 0.3163 - lr: 3.0000e-04\n",
      "Epoch 30/150\n",
      "44/44 [==============================] - ETA: 0s - loss: 3.2822 - accuracy: 0.3230WARNING:tensorflow:Your input ran out of data; interrupting training. Make sure that your dataset or generator can generate at least `steps_per_epoch * epochs` batches (in this case, 7 batches). You may need to use the repeat() function when building your dataset.\n",
      "44/44 [==============================] - 248s 6s/step - loss: 3.2822 - accuracy: 0.3230 - val_loss: 3.3387 - val_accuracy: 0.3166 - lr: 3.0000e-04\n",
      "Epoch 31/150\n",
      "44/44 [==============================] - ETA: 0s - loss: 3.2807 - accuracy: 0.3239WARNING:tensorflow:Learning rate reduction is conditioned on metric `val_loss` which is not available. Available metrics are: loss,accuracy,lr\n",
      "WARNING:tensorflow:Early stopping conditioned on metric `val_loss` which is not available. Available metrics are: loss,accuracy,lr\n",
      "44/44 [==============================] - 175s 4s/step - loss: 3.2807 - accuracy: 0.3239 - lr: 3.0000e-04\n",
      "Epoch 32/150\n",
      "44/44 [==============================] - ETA: 0s - loss: 3.2582 - accuracy: 0.3240WARNING:tensorflow:Learning rate reduction is conditioned on metric `val_loss` which is not available. Available metrics are: loss,accuracy,lr\n",
      "WARNING:tensorflow:Early stopping conditioned on metric `val_loss` which is not available. Available metrics are: loss,accuracy,lr\n",
      "44/44 [==============================] - 164s 4s/step - loss: 3.2582 - accuracy: 0.3240 - lr: 3.0000e-04\n",
      "Epoch 33/150\n",
      "44/44 [==============================] - ETA: 0s - loss: 3.2522 - accuracy: 0.3258WARNING:tensorflow:Learning rate reduction is conditioned on metric `val_loss` which is not available. Available metrics are: loss,accuracy,lr\n",
      "WARNING:tensorflow:Early stopping conditioned on metric `val_loss` which is not available. Available metrics are: loss,accuracy,lr\n",
      "44/44 [==============================] - 112s 3s/step - loss: 3.2522 - accuracy: 0.3258 - lr: 3.0000e-04\n",
      "Epoch 34/150\n",
      "44/44 [==============================] - ETA: 0s - loss: 3.2303 - accuracy: 0.3262WARNING:tensorflow:Learning rate reduction is conditioned on metric `val_loss` which is not available. Available metrics are: loss,accuracy,lr\n",
      "WARNING:tensorflow:Early stopping conditioned on metric `val_loss` which is not available. Available metrics are: loss,accuracy,lr\n",
      "44/44 [==============================] - 127s 3s/step - loss: 3.2303 - accuracy: 0.3262 - lr: 3.0000e-04\n",
      "Epoch 35/150\n",
      "44/44 [==============================] - ETA: 0s - loss: 3.2211 - accuracy: 0.3304WARNING:tensorflow:Learning rate reduction is conditioned on metric `val_loss` which is not available. Available metrics are: loss,accuracy,lr\n",
      "WARNING:tensorflow:Early stopping conditioned on metric `val_loss` which is not available. Available metrics are: loss,accuracy,lr\n",
      "44/44 [==============================] - 163s 4s/step - loss: 3.2211 - accuracy: 0.3304 - lr: 3.0000e-04\n",
      "Epoch 36/150\n",
      "44/44 [==============================] - ETA: 0s - loss: 3.2065 - accuracy: 0.3277WARNING:tensorflow:Learning rate reduction is conditioned on metric `val_loss` which is not available. Available metrics are: loss,accuracy,lr\n",
      "WARNING:tensorflow:Early stopping conditioned on metric `val_loss` which is not available. Available metrics are: loss,accuracy,lr\n",
      "44/44 [==============================] - 106s 2s/step - loss: 3.2065 - accuracy: 0.3277 - lr: 3.0000e-04\n",
      "Epoch 37/150\n",
      "44/44 [==============================] - ETA: 0s - loss: 3.1969 - accuracy: 0.3328WARNING:tensorflow:Learning rate reduction is conditioned on metric `val_loss` which is not available. Available metrics are: loss,accuracy,lr\n"
     ]
    },
    {
     "name": "stdout",
     "output_type": "stream",
     "text": [
      "WARNING:tensorflow:Early stopping conditioned on metric `val_loss` which is not available. Available metrics are: loss,accuracy,lr\n",
      "44/44 [==============================] - 130s 3s/step - loss: 3.1969 - accuracy: 0.3328 - lr: 3.0000e-04\n",
      "Epoch 38/150\n",
      "44/44 [==============================] - ETA: 0s - loss: 3.1850 - accuracy: 0.3298WARNING:tensorflow:Learning rate reduction is conditioned on metric `val_loss` which is not available. Available metrics are: loss,accuracy,lr\n",
      "WARNING:tensorflow:Early stopping conditioned on metric `val_loss` which is not available. Available metrics are: loss,accuracy,lr\n",
      "44/44 [==============================] - 115s 3s/step - loss: 3.1850 - accuracy: 0.3298 - lr: 3.0000e-04\n",
      "Epoch 39/150\n",
      "44/44 [==============================] - ETA: 0s - loss: 3.1754 - accuracy: 0.3345WARNING:tensorflow:Learning rate reduction is conditioned on metric `val_loss` which is not available. Available metrics are: loss,accuracy,lr\n",
      "WARNING:tensorflow:Early stopping conditioned on metric `val_loss` which is not available. Available metrics are: loss,accuracy,lr\n",
      "44/44 [==============================] - 116s 3s/step - loss: 3.1754 - accuracy: 0.3345 - lr: 3.0000e-04\n",
      "Epoch 40/150\n",
      "44/44 [==============================] - ETA: 0s - loss: 3.1623 - accuracy: 0.3322WARNING:tensorflow:Learning rate reduction is conditioned on metric `val_loss` which is not available. Available metrics are: loss,accuracy,lr\n",
      "WARNING:tensorflow:Early stopping conditioned on metric `val_loss` which is not available. Available metrics are: loss,accuracy,lr\n",
      "44/44 [==============================] - 110s 3s/step - loss: 3.1623 - accuracy: 0.3322 - lr: 3.0000e-04\n",
      "Epoch 41/150\n",
      "44/44 [==============================] - ETA: 0s - loss: 3.1608 - accuracy: 0.3350WARNING:tensorflow:Learning rate reduction is conditioned on metric `val_loss` which is not available. Available metrics are: loss,accuracy,lr\n",
      "WARNING:tensorflow:Early stopping conditioned on metric `val_loss` which is not available. Available metrics are: loss,accuracy,lr\n",
      "44/44 [==============================] - 106s 2s/step - loss: 3.1608 - accuracy: 0.3350 - lr: 3.0000e-04\n",
      "Epoch 42/150\n",
      "44/44 [==============================] - ETA: 0s - loss: 3.1407 - accuracy: 0.3356WARNING:tensorflow:Learning rate reduction is conditioned on metric `val_loss` which is not available. Available metrics are: loss,accuracy,lr\n",
      "WARNING:tensorflow:Early stopping conditioned on metric `val_loss` which is not available. Available metrics are: loss,accuracy,lr\n",
      "44/44 [==============================] - 105s 2s/step - loss: 3.1407 - accuracy: 0.3356 - lr: 3.0000e-04\n",
      "Epoch 43/150\n",
      "44/44 [==============================] - ETA: 0s - loss: 3.1400 - accuracy: 0.3359WARNING:tensorflow:Learning rate reduction is conditioned on metric `val_loss` which is not available. Available metrics are: loss,accuracy,lr\n",
      "WARNING:tensorflow:Early stopping conditioned on metric `val_loss` which is not available. Available metrics are: loss,accuracy,lr\n",
      "44/44 [==============================] - 131s 3s/step - loss: 3.1400 - accuracy: 0.3359 - lr: 3.0000e-04\n",
      "Epoch 44/150\n",
      "44/44 [==============================] - ETA: 0s - loss: 3.1214 - accuracy: 0.3383WARNING:tensorflow:Learning rate reduction is conditioned on metric `val_loss` which is not available. Available metrics are: loss,accuracy,lr\n",
      "WARNING:tensorflow:Early stopping conditioned on metric `val_loss` which is not available. Available metrics are: loss,accuracy,lr\n",
      "44/44 [==============================] - 141s 3s/step - loss: 3.1214 - accuracy: 0.3383 - lr: 3.0000e-04\n",
      "Epoch 45/150\n",
      "44/44 [==============================] - ETA: 0s - loss: 3.1161 - accuracy: 0.3383WARNING:tensorflow:Learning rate reduction is conditioned on metric `val_loss` which is not available. Available metrics are: loss,accuracy,lr\n",
      "WARNING:tensorflow:Early stopping conditioned on metric `val_loss` which is not available. Available metrics are: loss,accuracy,lr\n",
      "44/44 [==============================] - 177s 4s/step - loss: 3.1161 - accuracy: 0.3383 - lr: 3.0000e-04\n",
      "Epoch 46/150\n",
      "44/44 [==============================] - ETA: 0s - loss: 3.1107 - accuracy: 0.3377WARNING:tensorflow:Learning rate reduction is conditioned on metric `val_loss` which is not available. Available metrics are: loss,accuracy,lr\n",
      "WARNING:tensorflow:Early stopping conditioned on metric `val_loss` which is not available. Available metrics are: loss,accuracy,lr\n",
      "44/44 [==============================] - 102s 2s/step - loss: 3.1107 - accuracy: 0.3377 - lr: 3.0000e-04\n",
      "Epoch 47/150\n",
      "44/44 [==============================] - ETA: 0s - loss: 3.0980 - accuracy: 0.3410WARNING:tensorflow:Learning rate reduction is conditioned on metric `val_loss` which is not available. Available metrics are: loss,accuracy,lr\n",
      "WARNING:tensorflow:Early stopping conditioned on metric `val_loss` which is not available. Available metrics are: loss,accuracy,lr\n",
      "44/44 [==============================] - 113s 3s/step - loss: 3.0980 - accuracy: 0.3410 - lr: 3.0000e-04\n",
      "Epoch 48/150\n",
      "44/44 [==============================] - ETA: 0s - loss: 3.0953 - accuracy: 0.3389WARNING:tensorflow:Learning rate reduction is conditioned on metric `val_loss` which is not available. Available metrics are: loss,accuracy,lr\n",
      "WARNING:tensorflow:Early stopping conditioned on metric `val_loss` which is not available. Available metrics are: loss,accuracy,lr\n",
      "44/44 [==============================] - 110s 3s/step - loss: 3.0953 - accuracy: 0.3389 - lr: 3.0000e-04\n",
      "Epoch 49/150\n",
      "44/44 [==============================] - ETA: 0s - loss: 3.0816 - accuracy: 0.3427WARNING:tensorflow:Learning rate reduction is conditioned on metric `val_loss` which is not available. Available metrics are: loss,accuracy,lr\n",
      "WARNING:tensorflow:Early stopping conditioned on metric `val_loss` which is not available. Available metrics are: loss,accuracy,lr\n",
      "44/44 [==============================] - 109s 2s/step - loss: 3.0816 - accuracy: 0.3427 - lr: 3.0000e-04\n",
      "Epoch 50/150\n",
      "44/44 [==============================] - ETA: 0s - loss: 3.0741 - accuracy: 0.3407WARNING:tensorflow:Learning rate reduction is conditioned on metric `val_loss` which is not available. Available metrics are: loss,accuracy,lr\n",
      "WARNING:tensorflow:Early stopping conditioned on metric `val_loss` which is not available. Available metrics are: loss,accuracy,lr\n",
      "44/44 [==============================] - 206s 5s/step - loss: 3.0741 - accuracy: 0.3407 - lr: 3.0000e-04\n",
      "Epoch 51/150\n",
      "44/44 [==============================] - ETA: 0s - loss: 3.0669 - accuracy: 0.3448WARNING:tensorflow:Learning rate reduction is conditioned on metric `val_loss` which is not available. Available metrics are: loss,accuracy,lr\n",
      "WARNING:tensorflow:Early stopping conditioned on metric `val_loss` which is not available. Available metrics are: loss,accuracy,lr\n",
      "44/44 [==============================] - 219s 5s/step - loss: 3.0669 - accuracy: 0.3448 - lr: 3.0000e-04\n",
      "Epoch 52/150\n",
      "44/44 [==============================] - ETA: 0s - loss: 3.0582 - accuracy: 0.3421WARNING:tensorflow:Learning rate reduction is conditioned on metric `val_loss` which is not available. Available metrics are: loss,accuracy,lr\n",
      "WARNING:tensorflow:Early stopping conditioned on metric `val_loss` which is not available. Available metrics are: loss,accuracy,lr\n",
      "44/44 [==============================] - 173s 4s/step - loss: 3.0582 - accuracy: 0.3421 - lr: 3.0000e-04\n",
      "Epoch 53/150\n",
      "44/44 [==============================] - ETA: 0s - loss: 3.0515 - accuracy: 0.3455WARNING:tensorflow:Learning rate reduction is conditioned on metric `val_loss` which is not available. Available metrics are: loss,accuracy,lr\n",
      "WARNING:tensorflow:Early stopping conditioned on metric `val_loss` which is not available. Available metrics are: loss,accuracy,lr\n",
      "44/44 [==============================] - 104s 2s/step - loss: 3.0515 - accuracy: 0.3455 - lr: 3.0000e-04\n",
      "Epoch 54/150\n",
      "44/44 [==============================] - ETA: 0s - loss: 3.0444 - accuracy: 0.3434WARNING:tensorflow:Learning rate reduction is conditioned on metric `val_loss` which is not available. Available metrics are: loss,accuracy,lr\n",
      "WARNING:tensorflow:Early stopping conditioned on metric `val_loss` which is not available. Available metrics are: loss,accuracy,lr\n",
      "44/44 [==============================] - 114s 3s/step - loss: 3.0444 - accuracy: 0.3434 - lr: 3.0000e-04\n"
     ]
    },
    {
     "name": "stdout",
     "output_type": "stream",
     "text": [
      "Epoch 55/150\n",
      "44/44 [==============================] - ETA: 0s - loss: 3.0328 - accuracy: 0.3482WARNING:tensorflow:Learning rate reduction is conditioned on metric `val_loss` which is not available. Available metrics are: loss,accuracy,lr\n",
      "WARNING:tensorflow:Early stopping conditioned on metric `val_loss` which is not available. Available metrics are: loss,accuracy,lr\n",
      "44/44 [==============================] - 114s 3s/step - loss: 3.0328 - accuracy: 0.3482 - lr: 3.0000e-04\n",
      "Epoch 56/150\n",
      "44/44 [==============================] - ETA: 0s - loss: 3.0328 - accuracy: 0.3451WARNING:tensorflow:Learning rate reduction is conditioned on metric `val_loss` which is not available. Available metrics are: loss,accuracy,lr\n",
      "WARNING:tensorflow:Early stopping conditioned on metric `val_loss` which is not available. Available metrics are: loss,accuracy,lr\n",
      "44/44 [==============================] - 113s 3s/step - loss: 3.0328 - accuracy: 0.3451 - lr: 3.0000e-04\n",
      "Epoch 57/150\n",
      "44/44 [==============================] - ETA: 0s - loss: 3.0190 - accuracy: 0.3487WARNING:tensorflow:Learning rate reduction is conditioned on metric `val_loss` which is not available. Available metrics are: loss,accuracy,lr\n",
      "WARNING:tensorflow:Early stopping conditioned on metric `val_loss` which is not available. Available metrics are: loss,accuracy,lr\n",
      "44/44 [==============================] - 106s 2s/step - loss: 3.0190 - accuracy: 0.3487 - lr: 3.0000e-04\n",
      "Epoch 58/150\n",
      "44/44 [==============================] - ETA: 0s - loss: 3.0197 - accuracy: 0.3464WARNING:tensorflow:Learning rate reduction is conditioned on metric `val_loss` which is not available. Available metrics are: loss,accuracy,lr\n",
      "WARNING:tensorflow:Early stopping conditioned on metric `val_loss` which is not available. Available metrics are: loss,accuracy,lr\n",
      "44/44 [==============================] - 113s 3s/step - loss: 3.0197 - accuracy: 0.3464 - lr: 3.0000e-04\n",
      "Epoch 59/150\n",
      "44/44 [==============================] - ETA: 0s - loss: 3.0034 - accuracy: 0.3504WARNING:tensorflow:Learning rate reduction is conditioned on metric `val_loss` which is not available. Available metrics are: loss,accuracy,lr\n",
      "WARNING:tensorflow:Early stopping conditioned on metric `val_loss` which is not available. Available metrics are: loss,accuracy,lr\n",
      "44/44 [==============================] - 113s 3s/step - loss: 3.0034 - accuracy: 0.3504 - lr: 3.0000e-04\n",
      "Epoch 60/150\n",
      "44/44 [==============================] - ETA: 0s - loss: 3.0054 - accuracy: 0.3479WARNING:tensorflow:Learning rate reduction is conditioned on metric `val_loss` which is not available. Available metrics are: loss,accuracy,lr\n",
      "WARNING:tensorflow:Early stopping conditioned on metric `val_loss` which is not available. Available metrics are: loss,accuracy,lr\n",
      "44/44 [==============================] - 115s 3s/step - loss: 3.0054 - accuracy: 0.3479 - lr: 3.0000e-04\n",
      "Epoch 61/150\n",
      "44/44 [==============================] - ETA: 0s - loss: 2.9894 - accuracy: 0.3511WARNING:tensorflow:Learning rate reduction is conditioned on metric `val_loss` which is not available. Available metrics are: loss,accuracy,lr\n",
      "WARNING:tensorflow:Early stopping conditioned on metric `val_loss` which is not available. Available metrics are: loss,accuracy,lr\n",
      "44/44 [==============================] - 113s 3s/step - loss: 2.9894 - accuracy: 0.3511 - lr: 3.0000e-04\n",
      "Epoch 62/150\n",
      "44/44 [==============================] - ETA: 0s - loss: 2.9936 - accuracy: 0.3485WARNING:tensorflow:Learning rate reduction is conditioned on metric `val_loss` which is not available. Available metrics are: loss,accuracy,lr\n",
      "WARNING:tensorflow:Early stopping conditioned on metric `val_loss` which is not available. Available metrics are: loss,accuracy,lr\n",
      "44/44 [==============================] - 114s 3s/step - loss: 2.9936 - accuracy: 0.3485 - lr: 3.0000e-04\n",
      "Epoch 63/150\n",
      "44/44 [==============================] - ETA: 0s - loss: 2.9732 - accuracy: 0.3529WARNING:tensorflow:Learning rate reduction is conditioned on metric `val_loss` which is not available. Available metrics are: loss,accuracy,lr\n",
      "WARNING:tensorflow:Early stopping conditioned on metric `val_loss` which is not available. Available metrics are: loss,accuracy,lr\n",
      "44/44 [==============================] - 112s 3s/step - loss: 2.9732 - accuracy: 0.3529 - lr: 3.0000e-04\n",
      "Epoch 64/150\n",
      "44/44 [==============================] - ETA: 0s - loss: 2.9786 - accuracy: 0.3502WARNING:tensorflow:Learning rate reduction is conditioned on metric `val_loss` which is not available. Available metrics are: loss,accuracy,lr\n",
      "WARNING:tensorflow:Early stopping conditioned on metric `val_loss` which is not available. Available metrics are: loss,accuracy,lr\n",
      "44/44 [==============================] - 113s 3s/step - loss: 2.9786 - accuracy: 0.3502 - lr: 3.0000e-04\n",
      "Epoch 65/150\n",
      "44/44 [==============================] - ETA: 0s - loss: 2.9641 - accuracy: 0.3538WARNING:tensorflow:Learning rate reduction is conditioned on metric `val_loss` which is not available. Available metrics are: loss,accuracy,lr\n",
      "WARNING:tensorflow:Early stopping conditioned on metric `val_loss` which is not available. Available metrics are: loss,accuracy,lr\n",
      "44/44 [==============================] - 106s 2s/step - loss: 2.9641 - accuracy: 0.3538 - lr: 3.0000e-04\n",
      "Epoch 66/150\n",
      "44/44 [==============================] - ETA: 0s - loss: 2.9662 - accuracy: 0.3514WARNING:tensorflow:Learning rate reduction is conditioned on metric `val_loss` which is not available. Available metrics are: loss,accuracy,lr\n",
      "WARNING:tensorflow:Early stopping conditioned on metric `val_loss` which is not available. Available metrics are: loss,accuracy,lr\n",
      "44/44 [==============================] - 107s 2s/step - loss: 2.9662 - accuracy: 0.3514 - lr: 3.0000e-04\n",
      "Epoch 67/150\n",
      "44/44 [==============================] - ETA: 0s - loss: 2.9490 - accuracy: 0.3551WARNING:tensorflow:Learning rate reduction is conditioned on metric `val_loss` which is not available. Available metrics are: loss,accuracy,lr\n",
      "WARNING:tensorflow:Early stopping conditioned on metric `val_loss` which is not available. Available metrics are: loss,accuracy,lr\n",
      "44/44 [==============================] - 114s 3s/step - loss: 2.9490 - accuracy: 0.3551 - lr: 3.0000e-04\n",
      "Epoch 68/150\n",
      "44/44 [==============================] - ETA: 0s - loss: 2.9521 - accuracy: 0.3541WARNING:tensorflow:Learning rate reduction is conditioned on metric `val_loss` which is not available. Available metrics are: loss,accuracy,lr\n",
      "WARNING:tensorflow:Early stopping conditioned on metric `val_loss` which is not available. Available metrics are: loss,accuracy,lr\n",
      "44/44 [==============================] - 159s 4s/step - loss: 2.9521 - accuracy: 0.3541 - lr: 3.0000e-04\n",
      "Epoch 69/150\n",
      "44/44 [==============================] - ETA: 0s - loss: 2.9389 - accuracy: 0.3560WARNING:tensorflow:Learning rate reduction is conditioned on metric `val_loss` which is not available. Available metrics are: loss,accuracy,lr\n",
      "WARNING:tensorflow:Early stopping conditioned on metric `val_loss` which is not available. Available metrics are: loss,accuracy,lr\n",
      "44/44 [==============================] - 111s 3s/step - loss: 2.9389 - accuracy: 0.3560 - lr: 3.0000e-04\n",
      "Epoch 70/150\n",
      "44/44 [==============================] - ETA: 0s - loss: 2.9384 - accuracy: 0.3552WARNING:tensorflow:Learning rate reduction is conditioned on metric `val_loss` which is not available. Available metrics are: loss,accuracy,lr\n",
      "WARNING:tensorflow:Early stopping conditioned on metric `val_loss` which is not available. Available metrics are: loss,accuracy,lr\n",
      "44/44 [==============================] - 108s 2s/step - loss: 2.9384 - accuracy: 0.3552 - lr: 3.0000e-04\n",
      "Epoch 71/150\n",
      "44/44 [==============================] - ETA: 0s - loss: 2.9256 - accuracy: 0.3575WARNING:tensorflow:Learning rate reduction is conditioned on metric `val_loss` which is not available. Available metrics are: loss,accuracy,lr\n",
      "WARNING:tensorflow:Early stopping conditioned on metric `val_loss` which is not available. Available metrics are: loss,accuracy,lr\n",
      "44/44 [==============================] - 110s 3s/step - loss: 2.9256 - accuracy: 0.3575 - lr: 3.0000e-04\n",
      "Epoch 72/150\n",
      "44/44 [==============================] - ETA: 0s - loss: 2.9268 - accuracy: 0.3559WARNING:tensorflow:Learning rate reduction is conditioned on metric `val_loss` which is not available. Available metrics are: loss,accuracy,lr\n"
     ]
    },
    {
     "name": "stdout",
     "output_type": "stream",
     "text": [
      "WARNING:tensorflow:Early stopping conditioned on metric `val_loss` which is not available. Available metrics are: loss,accuracy,lr\n",
      "44/44 [==============================] - 115s 3s/step - loss: 2.9268 - accuracy: 0.3559 - lr: 3.0000e-04\n",
      "Epoch 73/150\n",
      "44/44 [==============================] - ETA: 0s - loss: 2.9134 - accuracy: 0.3597WARNING:tensorflow:Learning rate reduction is conditioned on metric `val_loss` which is not available. Available metrics are: loss,accuracy,lr\n",
      "WARNING:tensorflow:Early stopping conditioned on metric `val_loss` which is not available. Available metrics are: loss,accuracy,lr\n",
      "44/44 [==============================] - 112s 3s/step - loss: 2.9134 - accuracy: 0.3597 - lr: 3.0000e-04\n",
      "Epoch 74/150\n",
      "44/44 [==============================] - ETA: 0s - loss: 2.9161 - accuracy: 0.3571WARNING:tensorflow:Learning rate reduction is conditioned on metric `val_loss` which is not available. Available metrics are: loss,accuracy,lr\n",
      "WARNING:tensorflow:Early stopping conditioned on metric `val_loss` which is not available. Available metrics are: loss,accuracy,lr\n",
      "44/44 [==============================] - 116s 3s/step - loss: 2.9161 - accuracy: 0.3571 - lr: 3.0000e-04\n",
      "Epoch 75/150\n",
      "44/44 [==============================] - ETA: 0s - loss: 2.9015 - accuracy: 0.3609WARNING:tensorflow:Learning rate reduction is conditioned on metric `val_loss` which is not available. Available metrics are: loss,accuracy,lr\n",
      "WARNING:tensorflow:Early stopping conditioned on metric `val_loss` which is not available. Available metrics are: loss,accuracy,lr\n",
      "44/44 [==============================] - 112s 3s/step - loss: 2.9015 - accuracy: 0.3609 - lr: 3.0000e-04\n",
      "Epoch 76/150\n",
      "44/44 [==============================] - ETA: 0s - loss: 2.9072 - accuracy: 0.3590WARNING:tensorflow:Learning rate reduction is conditioned on metric `val_loss` which is not available. Available metrics are: loss,accuracy,lr\n",
      "WARNING:tensorflow:Early stopping conditioned on metric `val_loss` which is not available. Available metrics are: loss,accuracy,lr\n",
      "44/44 [==============================] - 115s 3s/step - loss: 2.9072 - accuracy: 0.3590 - lr: 3.0000e-04\n",
      "Epoch 77/150\n",
      "44/44 [==============================] - ETA: 0s - loss: 2.8833 - accuracy: 0.3618WARNING:tensorflow:Learning rate reduction is conditioned on metric `val_loss` which is not available. Available metrics are: loss,accuracy,lr\n",
      "WARNING:tensorflow:Early stopping conditioned on metric `val_loss` which is not available. Available metrics are: loss,accuracy,lr\n",
      "44/44 [==============================] - 113s 3s/step - loss: 2.8833 - accuracy: 0.3618 - lr: 3.0000e-04\n",
      "Epoch 78/150\n",
      "44/44 [==============================] - ETA: 0s - loss: 2.9011 - accuracy: 0.3601WARNING:tensorflow:Learning rate reduction is conditioned on metric `val_loss` which is not available. Available metrics are: loss,accuracy,lr\n",
      "WARNING:tensorflow:Early stopping conditioned on metric `val_loss` which is not available. Available metrics are: loss,accuracy,lr\n",
      "44/44 [==============================] - 117s 3s/step - loss: 2.9011 - accuracy: 0.3601 - lr: 3.0000e-04\n",
      "Epoch 79/150\n",
      "44/44 [==============================] - ETA: 0s - loss: 2.8696 - accuracy: 0.3644WARNING:tensorflow:Learning rate reduction is conditioned on metric `val_loss` which is not available. Available metrics are: loss,accuracy,lr\n",
      "WARNING:tensorflow:Early stopping conditioned on metric `val_loss` which is not available. Available metrics are: loss,accuracy,lr\n",
      "44/44 [==============================] - 112s 3s/step - loss: 2.8696 - accuracy: 0.3644 - lr: 3.0000e-04\n",
      "Epoch 80/150\n",
      "44/44 [==============================] - ETA: 0s - loss: 2.8864 - accuracy: 0.3612WARNING:tensorflow:Learning rate reduction is conditioned on metric `val_loss` which is not available. Available metrics are: loss,accuracy,lr\n",
      "WARNING:tensorflow:Early stopping conditioned on metric `val_loss` which is not available. Available metrics are: loss,accuracy,lr\n",
      "44/44 [==============================] - 114s 3s/step - loss: 2.8864 - accuracy: 0.3612 - lr: 3.0000e-04\n",
      "Epoch 81/150\n",
      "44/44 [==============================] - ETA: 0s - loss: 2.8632 - accuracy: 0.3651WARNING:tensorflow:Learning rate reduction is conditioned on metric `val_loss` which is not available. Available metrics are: loss,accuracy,lr\n",
      "WARNING:tensorflow:Early stopping conditioned on metric `val_loss` which is not available. Available metrics are: loss,accuracy,lr\n",
      "44/44 [==============================] - 117s 3s/step - loss: 2.8632 - accuracy: 0.3651 - lr: 3.0000e-04\n",
      "Epoch 82/150\n",
      "44/44 [==============================] - ETA: 0s - loss: 2.8794 - accuracy: 0.3630WARNING:tensorflow:Learning rate reduction is conditioned on metric `val_loss` which is not available. Available metrics are: loss,accuracy,lr\n",
      "WARNING:tensorflow:Early stopping conditioned on metric `val_loss` which is not available. Available metrics are: loss,accuracy,lr\n",
      "44/44 [==============================] - 115s 3s/step - loss: 2.8794 - accuracy: 0.3630 - lr: 3.0000e-04\n",
      "Epoch 83/150\n",
      "44/44 [==============================] - ETA: 0s - loss: 2.8535 - accuracy: 0.3656WARNING:tensorflow:Learning rate reduction is conditioned on metric `val_loss` which is not available. Available metrics are: loss,accuracy,lr\n",
      "WARNING:tensorflow:Early stopping conditioned on metric `val_loss` which is not available. Available metrics are: loss,accuracy,lr\n",
      "44/44 [==============================] - 110s 3s/step - loss: 2.8535 - accuracy: 0.3656 - lr: 3.0000e-04\n",
      "Epoch 84/150\n",
      "44/44 [==============================] - ETA: 0s - loss: 2.8581 - accuracy: 0.3655WARNING:tensorflow:Learning rate reduction is conditioned on metric `val_loss` which is not available. Available metrics are: loss,accuracy,lr\n",
      "WARNING:tensorflow:Early stopping conditioned on metric `val_loss` which is not available. Available metrics are: loss,accuracy,lr\n",
      "44/44 [==============================] - 110s 3s/step - loss: 2.8581 - accuracy: 0.3655 - lr: 3.0000e-04\n",
      "Epoch 85/150\n",
      "44/44 [==============================] - ETA: 0s - loss: 2.8478 - accuracy: 0.3668WARNING:tensorflow:Learning rate reduction is conditioned on metric `val_loss` which is not available. Available metrics are: loss,accuracy,lr\n",
      "WARNING:tensorflow:Early stopping conditioned on metric `val_loss` which is not available. Available metrics are: loss,accuracy,lr\n",
      "44/44 [==============================] - 114s 3s/step - loss: 2.8478 - accuracy: 0.3668 - lr: 3.0000e-04\n",
      "Epoch 86/150\n",
      "44/44 [==============================] - ETA: 0s - loss: 2.8486 - accuracy: 0.3671WARNING:tensorflow:Learning rate reduction is conditioned on metric `val_loss` which is not available. Available metrics are: loss,accuracy,lr\n",
      "WARNING:tensorflow:Early stopping conditioned on metric `val_loss` which is not available. Available metrics are: loss,accuracy,lr\n",
      "44/44 [==============================] - 112s 3s/step - loss: 2.8486 - accuracy: 0.3671 - lr: 3.0000e-04\n",
      "Epoch 87/150\n",
      "44/44 [==============================] - ETA: 0s - loss: 2.8303 - accuracy: 0.3682WARNING:tensorflow:Learning rate reduction is conditioned on metric `val_loss` which is not available. Available metrics are: loss,accuracy,lr\n",
      "WARNING:tensorflow:Early stopping conditioned on metric `val_loss` which is not available. Available metrics are: loss,accuracy,lr\n",
      "44/44 [==============================] - 114s 3s/step - loss: 2.8303 - accuracy: 0.3682 - lr: 3.0000e-04\n",
      "Epoch 88/150\n",
      "44/44 [==============================] - ETA: 0s - loss: 2.8330 - accuracy: 0.3698WARNING:tensorflow:Learning rate reduction is conditioned on metric `val_loss` which is not available. Available metrics are: loss,accuracy,lr\n",
      "WARNING:tensorflow:Early stopping conditioned on metric `val_loss` which is not available. Available metrics are: loss,accuracy,lr\n",
      "44/44 [==============================] - 114s 3s/step - loss: 2.8330 - accuracy: 0.3698 - lr: 3.0000e-04\n",
      "Epoch 89/150\n",
      "44/44 [==============================] - ETA: 0s - loss: 2.8202 - accuracy: 0.3695WARNING:tensorflow:Learning rate reduction is conditioned on metric `val_loss` which is not available. Available metrics are: loss,accuracy,lr\n",
      "WARNING:tensorflow:Early stopping conditioned on metric `val_loss` which is not available. Available metrics are: loss,accuracy,lr\n",
      "44/44 [==============================] - 113s 3s/step - loss: 2.8202 - accuracy: 0.3695 - lr: 3.0000e-04\n"
     ]
    },
    {
     "name": "stdout",
     "output_type": "stream",
     "text": [
      "Epoch 90/150\n",
      "44/44 [==============================] - ETA: 0s - loss: 2.8171 - accuracy: 0.3708WARNING:tensorflow:Learning rate reduction is conditioned on metric `val_loss` which is not available. Available metrics are: loss,accuracy,lr\n",
      "WARNING:tensorflow:Early stopping conditioned on metric `val_loss` which is not available. Available metrics are: loss,accuracy,lr\n",
      "44/44 [==============================] - 111s 3s/step - loss: 2.8171 - accuracy: 0.3708 - lr: 3.0000e-04\n",
      "Epoch 91/150\n",
      "44/44 [==============================] - ETA: 0s - loss: 2.8132 - accuracy: 0.3708WARNING:tensorflow:Learning rate reduction is conditioned on metric `val_loss` which is not available. Available metrics are: loss,accuracy,lr\n",
      "WARNING:tensorflow:Early stopping conditioned on metric `val_loss` which is not available. Available metrics are: loss,accuracy,lr\n",
      "44/44 [==============================] - 111s 3s/step - loss: 2.8132 - accuracy: 0.3708 - lr: 3.0000e-04\n",
      "Epoch 92/150\n",
      "44/44 [==============================] - ETA: 0s - loss: 2.8057 - accuracy: 0.3719WARNING:tensorflow:Learning rate reduction is conditioned on metric `val_loss` which is not available. Available metrics are: loss,accuracy,lr\n",
      "WARNING:tensorflow:Early stopping conditioned on metric `val_loss` which is not available. Available metrics are: loss,accuracy,lr\n",
      "44/44 [==============================] - 108s 2s/step - loss: 2.8057 - accuracy: 0.3719 - lr: 3.0000e-04\n",
      "Epoch 93/150\n",
      "44/44 [==============================] - ETA: 0s - loss: 2.7986 - accuracy: 0.3732WARNING:tensorflow:Learning rate reduction is conditioned on metric `val_loss` which is not available. Available metrics are: loss,accuracy,lr\n",
      "WARNING:tensorflow:Early stopping conditioned on metric `val_loss` which is not available. Available metrics are: loss,accuracy,lr\n",
      "44/44 [==============================] - 112s 3s/step - loss: 2.7986 - accuracy: 0.3732 - lr: 3.0000e-04\n",
      "Epoch 94/150\n",
      "44/44 [==============================] - ETA: 0s - loss: 2.7962 - accuracy: 0.3739WARNING:tensorflow:Learning rate reduction is conditioned on metric `val_loss` which is not available. Available metrics are: loss,accuracy,lr\n",
      "WARNING:tensorflow:Early stopping conditioned on metric `val_loss` which is not available. Available metrics are: loss,accuracy,lr\n",
      "44/44 [==============================] - 146s 3s/step - loss: 2.7962 - accuracy: 0.3739 - lr: 3.0000e-04\n",
      "Epoch 95/150\n",
      "22/44 [==============>...............] - ETA: 1:15 - loss: 2.7889 - accuracy: 0.3746\n",
      "W: interrupt received, stopping\n"
     ]
    }
   ],
   "source": [
    "try:\n",
    "    model.fit(train, validation_data=valid, validation_steps=(len(validation_list)//batch_size),\n",
    "        epochs=150, steps_per_epoch=(len(training_list)//batch_size),\n",
    "            callbacks=[x, earlystopping, tensorboard_callback])\n",
    "except KeyboardInterrupt:\n",
    "    print(\"\\nW: interrupt received, stopping\")\n",
    "finally:\n",
    "    pass"
   ]
  },
  {
   "cell_type": "code",
   "execution_count": 17,
   "metadata": {},
   "outputs": [],
   "source": [
    "model.save(os.getcwd() + '\\\\model\\\\inceptionresnetv2.h5')"
   ]
  },
  {
   "cell_type": "code",
   "execution_count": 18,
   "metadata": {},
   "outputs": [
    {
     "data": {
      "image/png": "[encoded data removed]",
      "text/plain": [
       "<Figure size 432x288 with 1 Axes>"
      ]
     },
     "metadata": {
      "needs_background": "light"
     },
     "output_type": "display_data"
    }
   ],
   "source": [
    "import matplotlib.pyplot as plt\n",
    "plt.plot(model.history.history['loss'])\n",
    "plt.plot(model.history.history['val_loss'])\n",
    "plt.legend(['train', 'test'], loc='upper right')\n",
    "plt.savefig('loss_inceptionresnetv2.png')\n",
    "plt.show()"
   ]
  },
  {
   "cell_type": "code",
   "execution_count": 19,
   "metadata": {},
   "outputs": [
    {
     "data": {
      "image/png": "[encoded data removed]",
      "text/plain": [
       "<Figure size 432x288 with 1 Axes>"
      ]
     },
     "metadata": {
      "needs_background": "light"
     },
     "output_type": "display_data"
    }
   ],
   "source": [
    "plt.plot(model.history.history['accuracy'])\n",
    "plt.plot(model.history.history['val_accuracy'])\n",
    "plt.legend(['train', 'test'], loc='upper right')\n",
    "plt.savefig('accuracy_inceptionresnetv2.png')\n",
    "plt.show()"
   ]
  },
  {
   "cell_type": "code",
   "execution_count": null,
   "metadata": {},
   "outputs": [],
   "source": [
    "# Saving encoder \n",
    "encoder_model = Model(encoder_inputs, encoder_states)\n",
    "\n",
    "# Saving decoder states and dense layer \n",
    "decoder_state_input_h = Input(shape=(latent_dim,))\n",
    "decoder_state_input_c = Input(shape=(latent_dim,))\n",
    "decoder_states_inputs = [decoder_state_input_h, decoder_state_input_c]\n",
    "decoder_outputs, state_h, state_c = decoder_lstm(\n",
    "    decoder_inputs, initial_state=decoder_states_inputs)\n",
    "decoder_states = [state_h, state_c]\n",
    "decoder_outputs = decoder_dense(decoder_outputs)\n",
    "decoder_model = Model(\n",
    "    [decoder_inputs] + decoder_states_inputs,\n",
    "    [decoder_outputs] + decoder_states)"
   ]
  },
  {
   "cell_type": "code",
   "execution_count": null,
   "metadata": {},
   "outputs": [],
   "source": [
    "encoder_model.save(os.getcwd() + '\\\\model\\\\inception_resnet\\\\encoder_model_inceptionresnetv2.h5')\n",
    "decoder_model.save_weights(os.getcwd() + '\\\\model\\\\inception_resnet\\\\decoder_model_weights_inceptionresnetv2.h5')"
   ]
  },
  {
   "cell_type": "code",
   "execution_count": 20,
   "metadata": {},
   "outputs": [
    {
     "name": "stdout",
     "output_type": "stream",
     "text": [
      "Model: \"model_2\"\n",
      "_________________________________________________________________\n",
      " Layer (type)                Output Shape              Param #   \n",
      "=================================================================\n",
      " encoder_inputs (InputLayer)  [(None, 80, 1536)]       0         \n",
      "                                                                 \n",
      " endcoder_lstm (LSTM)        [(None, 80, 512),         4196352   \n",
      "                              (None, 512),                       \n",
      "                              (None, 512)]                       \n",
      "                                                                 \n",
      "=================================================================\n",
      "Total params: 4,196,352\n",
      "Trainable params: 4,196,352\n",
      "Non-trainable params: 0\n",
      "_________________________________________________________________\n",
      "Model: \"model_3\"\n",
      "__________________________________________________________________________________________________\n",
      " Layer (type)                   Output Shape         Param #     Connected to                     \n",
      "==================================================================================================\n",
      " decoder_inputs (InputLayer)    [(None, 10, 500)]    0           []                               \n",
      "                                                                                                  \n",
      " input_1 (InputLayer)           [(None, 512)]        0           []                               \n",
      "                                                                                                  \n",
      " input_2 (InputLayer)           [(None, 512)]        0           []                               \n",
      "                                                                                                  \n",
      " decoder_lstm (LSTM)            [(None, 10, 512),    2074624     ['decoder_inputs[0][0]',         \n",
      "                                 (None, 512),                     'input_1[0][0]',                \n",
      "                                 (None, 512)]                     'input_2[0][0]']                \n",
      "                                                                                                  \n",
      " decoder_relu (Dense)           (None, 10, 500)      256500      ['decoder_lstm[1][0]']           \n",
      "                                                                                                  \n",
      "==================================================================================================\n",
      "Total params: 2,331,124\n",
      "Trainable params: 2,331,124\n",
      "Non-trainable params: 0\n",
      "__________________________________________________________________________________________________\n",
      "WARNING:tensorflow:Compiled the loaded model, but the compiled metrics have yet to be built. `model.compile_metrics` will be empty until you train or evaluate the model.\n",
      "You must install pydot (`pip install pydot`) and install graphviz (see instructions at https://graphviz.gitlab.io/download/) for plot_model/model_to_dot to work.\n",
      "You must install pydot (`pip install pydot`) and install graphviz (see instructions at https://graphviz.gitlab.io/download/) for plot_model/model_to_dot to work.\n"
     ]
    }
   ],
   "source": [
    "with open(os.getcwd() + '\\\\model\\\\inception_resnet' + '\\\\tokenizer_inceptionresnetv2','wb') as file:\n",
    "    joblib.dump(tokenizer, file)\n",
    "    \n",
    "plot_model(encoder_model, to_file='model_inference_encoder_inceptionresnet.png', show_shapes=True, show_layer_names=True)\n",
    "plot_model(decoder_model, to_file='model_inference_decoder_inceptionresnet.png', show_shapes=True, show_layer_names=True)"
   ]
  },
  {
   "cell_type": "code",
   "execution_count": null,
   "metadata": {},
   "outputs": [],
   "source": []
  },
  {
   "cell_type": "code",
   "execution_count": null,
   "metadata": {},
   "outputs": [],
   "source": []
  }
 ],
 "metadata": {
  "colab": {
   "name": "vtt_model.ipynb",
   "provenance": []
  },
  "kernelspec": {
   "display_name": "Python 3",
   "language": "python",
   "name": "python3"
  },
  "language_info": {
   "codemirror_mode": {
    "name": "ipython",
    "version": 3
   },
   "file_extension": ".py",
   "mimetype": "text/x-python",
   "name": "python",
   "nbconvert_exporter": "python",
   "pygments_lexer": "ipython3",
   "version": "3.8.8"
  }
 },
 "nbformat": 4,
 "nbformat_minor": 1
}
