{
 "cells": [
  {
   "cell_type": "code",
   "execution_count": 47,
   "id": "efed1c1f",
   "metadata": {},
   "outputs": [],
   "source": [
    "import numpy as np\n",
    "from keras.utils import np_utils\n",
    "from keras.models import Model, Sequential, load_model\n",
    "from keras.layers import Dense, Conv2D, MaxPooling2D, Flatten, Reshape, Dropout\n",
    "from keras.preprocessing.image import ImageDataGenerator\n",
    "from keras.applications.vgg16 import VGG16\n",
    "# from keras.applications.resnet50 import ResNet50\n",
    "from sklearn.metrics import confusion_matrix, classification_report\n",
    "import itertools\n",
    "import pandas as pd\n",
    "import matplotlib.pyplot as plt\n",
    "import cv2\n",
    "import os\n",
    "import keras"
   ]
  },
  {
   "cell_type": "code",
   "execution_count": 6,
   "id": "3c3e058c",
   "metadata": {},
   "outputs": [],
   "source": [
    "with open (\"vtt_videos_urls.txt\", \"r\") as myfile:\n",
    "    data = myfile.read().splitlines()"
   ]
  },
  {
   "cell_type": "code",
   "execution_count": 7,
   "id": "ea4ca038",
   "metadata": {},
   "outputs": [],
   "source": [
    "images_list = []\n",
    "for line in data:\n",
    "  url = line.split()[1]\n",
    "  vidcap = cv2.VideoCapture(url)\n",
    "\n",
    "  ok,image = vidcap.read()\n",
    "  count = 0\n",
    "  while ok:\n",
    "    path = os.getcwd() + '\\\\frames\\\\'\n",
    "    if count<80:\n",
    "        cv2.imwrite(path + line.split()[0] + '-' + str(count) + '.jpg', image)\n",
    "        image_list.append(path + line.split()[0] + '-' + str(count) + '.jpg')\n",
    "    success,image = vidcap.read()\n",
    "    count += 1"
   ]
  },
  {
   "cell_type": "code",
   "execution_count": 11,
   "id": "9cef791a",
   "metadata": {},
   "outputs": [],
   "source": [
    "df = pd.DataFrame(images_list)\n",
    "# df.to_csv('frames.csv')"
   ]
  }
 ],
 "metadata": {
  "kernelspec": {
   "display_name": "Python 3",
   "language": "python",
   "name": "python3"
  },
  "language_info": {
   "codemirror_mode": {
    "name": "ipython",
    "version": 3
   },
   "file_extension": ".py",
   "mimetype": "text/x-python",
   "name": "python",
   "nbconvert_exporter": "python",
   "pygments_lexer": "ipython3",
   "version": "3.8.8"
  },
  "toc": {
   "base_numbering": 1,
   "nav_menu": {},
   "number_sections": true,
   "sideBar": true,
   "skip_h1_title": false,
   "title_cell": "Table of Contents",
   "title_sidebar": "Contents",
   "toc_cell": false,
   "toc_position": {},
   "toc_section_display": true,
   "toc_window_display": false
  }
 },
 "nbformat": 4,
 "nbformat_minor": 5
}
